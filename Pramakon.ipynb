{
  "nbformat": 4,
  "nbformat_minor": 0,
  "metadata": {
    "colab": {
      "provenance": [],
      "authorship_tag": "ABX9TyMqjKdtFbxtJ2iW9iBLRsT3",
      "include_colab_link": true
    },
    "kernelspec": {
      "name": "python3",
      "display_name": "Python 3"
    },
    "language_info": {
      "name": "python"
    }
  },
  "cells": [
    {
      "cell_type": "markdown",
      "metadata": {
        "id": "view-in-github",
        "colab_type": "text"
      },
      "source": [
        "<a href=\"https://colab.research.google.com/github/davidpilecek/Pramakon/blob/master/Pramakon.ipynb\" target=\"_parent\"><img src=\"https://colab.research.google.com/assets/colab-badge.svg\" alt=\"Open In Colab\"/></a>"
      ]
    },
    {
      "cell_type": "code",
      "source": [
        "!pip install -Uq fastai duckduckgo_search"
      ],
      "metadata": {
        "colab": {
          "base_uri": "https://localhost:8080/"
        },
        "id": "f_aJ7SkDM9Gr",
        "outputId": "ec2ff164-e943-4cff-9bf8-ce453371fcca"
      },
      "execution_count": null,
      "outputs": [
        {
          "output_type": "stream",
          "name": "stdout",
          "text": [
            "\u001b[2K     \u001b[90m━━━━━━━━━━━━━━━━━━━━━━━━━━━━━━━━━━━━━━━━\u001b[0m \u001b[32m96.6/96.6 KB\u001b[0m \u001b[31m10.3 MB/s\u001b[0m eta \u001b[36m0:00:00\u001b[0m\n",
            "\u001b[2K     \u001b[90m━━━━━━━━━━━━━━━━━━━━━━━━━━━━━━━━━━━━━━━━\u001b[0m \u001b[32m62.8/62.8 KB\u001b[0m \u001b[31m2.3 MB/s\u001b[0m eta \u001b[36m0:00:00\u001b[0m\n",
            "\u001b[?25h\u001b[31mERROR: pip's dependency resolver does not currently take into account all the packages that are installed. This behaviour is the source of the following dependency conflicts.\n",
            "flask 1.1.4 requires click<8.0,>=5.1, but you have click 8.1.3 which is incompatible.\u001b[0m\u001b[31m\n",
            "\u001b[0m"
          ]
        }
      ]
    },
    {
      "cell_type": "code",
      "source": [
        "from duckduckgo_search import ddg_images\n",
        "from fastcore.all import *\n",
        "from fastdownload import download_url\n",
        "from fastai.vision.all import *\n",
        "from time import sleep\n",
        "import csv\n",
        "import os\n",
        "from google.colab import drive\n",
        "import csv\n",
        "\n",
        "warnings.filterwarnings(\"ignore\", category=UserWarning) \n",
        "\n",
        "species = 'salvej', 'kopriva'\n",
        "path_to_predict = r'/content/gdrive/MyDrive/Colab_Notebooks/unclassified_pics/'\n",
        "path = Path('/content/gdrive/MyDrive/Colab_Notebooks/dataset')\n",
        "path_model = Path('/content/gdrive/MyDrive/Colab_Notebooks/fastai_model.pkl')"
      ],
      "metadata": {
        "id": "-Xrws2AxBasc"
      },
      "execution_count": null,
      "outputs": []
    },
    {
      "cell_type": "code",
      "source": [
        "drive.mount('/content/gdrive', force_remount=True)"
      ],
      "metadata": {
        "colab": {
          "base_uri": "https://localhost:8080/"
        },
        "id": "l3FZvLtC5eHg",
        "outputId": "98ed62a3-680f-46fb-b905-cb688e844b5d"
      },
      "execution_count": null,
      "outputs": [
        {
          "output_type": "stream",
          "name": "stdout",
          "text": [
            "Mounted at /content/gdrive\n"
          ]
        }
      ]
    },
    {
      "cell_type": "code",
      "source": [
        "%cd /content/gdrive/MyDrive/Colab_Notebooks/unclassified_pics"
      ],
      "metadata": {
        "colab": {
          "base_uri": "https://localhost:8080/"
        },
        "id": "7wCXyUXR9mhG",
        "outputId": "104af3a8-adb6-40af-ff0a-8789972392d7"
      },
      "execution_count": null,
      "outputs": [
        {
          "output_type": "stream",
          "name": "stdout",
          "text": [
            "/content/gdrive/MyDrive/Colab_Notebooks/unclassified_pics\n"
          ]
        }
      ]
    },
    {
      "cell_type": "code",
      "source": [
        "def classify_dir(path_to_predict = path_to_predict):\n",
        "    _, _, files = next(os.walk(path_to_predict))\n",
        "    num_of_pics = len(files)\n",
        "    i = 0\n",
        "    for i in range(num_of_pics):\n",
        "        path = f\"{path_to_predict}/img{i}.jpg\"\n",
        "        print(path)"
      ],
      "metadata": {
        "id": "EQUkto1P9vY5"
      },
      "execution_count": null,
      "outputs": []
    },
    {
      "cell_type": "code",
      "source": [
        "def search_images(term, max_images=200):\n",
        "    print(f\"Searching for '{term}'\")\n",
        "    return L(ddg_images(term, max_results=max_images)).itemgot('image')"
      ],
      "metadata": {
        "id": "aMQrs-saN1cp"
      },
      "execution_count": null,
      "outputs": []
    },
    {
      "cell_type": "code",
      "source": [
        "def create_dataset():\n",
        "    shutil.rmtree(path)\n",
        "    for o in species:\n",
        "        dest = (path/o)\n",
        "        dest.mkdir(exist_ok=True, parents=True)\n",
        "        download_images(dest, urls=search_images(f'diseased {o} photo'))\n",
        "        sleep(10)\n",
        "        download_images(dest, urls=search_images(f'{o} photo'))\n",
        "        sleep(10)\n",
        "        download_images(dest, urls=search_images(f'{o} sun photo'))\n",
        "        sleep(10)\n",
        "        download_images(dest, urls=search_images(f'{o} shade photo'))\n",
        "        sleep(10)\n",
        "        resize_images(path/o, max_size=400, dest=path/o)\n",
        "\n",
        "    failed = verify_images(get_image_files(path))\n",
        "    failed.map(Path.unlink)"
      ],
      "metadata": {
        "id": "CUnnvu3BN9NT"
      },
      "execution_count": null,
      "outputs": []
    },
    {
      "cell_type": "code",
      "source": [
        "def learn():\n",
        "    dls = DataBlock(\n",
        "    blocks=(ImageBlock, CategoryBlock), \n",
        "    get_items=get_image_files, \n",
        "    splitter=RandomSplitter(valid_pct=0.2, seed=42),\n",
        "    get_y=parent_label,\n",
        "    item_tfms=[Resize(192, method='squish')]\n",
        "    ).dataloaders(path, bs=32)\n",
        "\n",
        "    learn = vision_learner(dls, resnet50, metrics=error_rate)\n",
        "    learn.fine_tune(8)\n",
        "\n",
        "    learn.export(path_model)"
      ],
      "metadata": {
        "id": "XKUckJl6OUDv"
      },
      "execution_count": null,
      "outputs": []
    },
    {
      "cell_type": "code",
      "source": [
        "def predict(path_to_predict = path_to_predict):\n",
        "    results = []\n",
        "    learn = load_learner(path_model)\n",
        "    _, _, files = next(os.walk(path_to_predict))\n",
        "    num_of_pics = len(files)\n",
        "    i = 1\n",
        "    for i in range(num_of_pics):\n",
        "        path_img = f\"{path_to_predict}/img{i}.jpg\"\n",
        "        print(path_img)\n",
        "        class_obj,_,probs = learn.predict(PILImage.create(path_img))\n",
        "        print(f\"This is a: {class_obj}.\")\n",
        "        print(f\"Probability it's a {class_obj}: {max(probs):.4f}\")\n",
        "        results.append(class_obj)\n",
        "        results.append(f\"{max(probs):.4f}\")\n",
        "    return results"
      ],
      "metadata": {
        "id": "sReJXhbGOf6E"
      },
      "execution_count": null,
      "outputs": []
    },
    {
      "cell_type": "code",
      "source": [
        "def create_csv(results):\n",
        "  num_of_cells = int(len(results))\n",
        "  print(num_of_cells)\n",
        "  with open('/content/results.csv', 'w', newline='') as csvfile:\n",
        "        writer = csv.writer(csvfile)\n",
        "        writer.writerow([\"Rostlinka\", \"Pravdepodobnost\"])\n",
        "        for i in range(0,num_of_cells-1 , 2):\n",
        "            writer.writerow([f\"{results[i]}\",f\"{results[i+1]}\"])\n",
        "  csvfile.close()      \n",
        "\n",
        "\n",
        "\n"
      ],
      "metadata": {
        "id": "J2tM9ju6MLQi"
      },
      "execution_count": null,
      "outputs": []
    },
    {
      "cell_type": "code",
      "source": [
        "if __name__ == '__main__':\n",
        "    results = predict()\n",
        "    print(results)\n",
        "    create_csv(results)"
      ],
      "metadata": {
        "colab": {
          "base_uri": "https://localhost:8080/",
          "height": 208
        },
        "id": "tdasIDmoO21g",
        "outputId": "40c56501-23c8-4029-871b-754cbd1e0484"
      },
      "execution_count": null,
      "outputs": [
        {
          "output_type": "stream",
          "name": "stdout",
          "text": [
            "/content/gdrive/MyDrive/Colab_Notebooks/unclassified_pics//img0.jpg\n"
          ]
        },
        {
          "output_type": "display_data",
          "data": {
            "text/plain": [
              "<IPython.core.display.HTML object>"
            ],
            "text/html": [
              "\n",
              "<style>\n",
              "    /* Turns off some styling */\n",
              "    progress {\n",
              "        /* gets rid of default border in Firefox and Opera. */\n",
              "        border: none;\n",
              "        /* Needs to be in here for Safari polyfill so background images work as expected. */\n",
              "        background-size: auto;\n",
              "    }\n",
              "    progress:not([value]), progress:not([value])::-webkit-progress-bar {\n",
              "        background: repeating-linear-gradient(45deg, #7e7e7e, #7e7e7e 10px, #5c5c5c 10px, #5c5c5c 20px);\n",
              "    }\n",
              "    .progress-bar-interrupted, .progress-bar-interrupted::-webkit-progress-bar {\n",
              "        background: #F44336;\n",
              "    }\n",
              "</style>\n"
            ]
          },
          "metadata": {}
        },
        {
          "output_type": "display_data",
          "data": {
            "text/plain": [
              "<IPython.core.display.HTML object>"
            ],
            "text/html": []
          },
          "metadata": {}
        },
        {
          "output_type": "stream",
          "name": "stdout",
          "text": [
            "This is a: unclassified_pics.\n",
            "Probability it's a unclassified_pics: 0.9894\n",
            "/content/gdrive/MyDrive/Colab_Notebooks/unclassified_pics//img1.jpg\n"
          ]
        },
        {
          "output_type": "display_data",
          "data": {
            "text/plain": [
              "<IPython.core.display.HTML object>"
            ],
            "text/html": [
              "\n",
              "<style>\n",
              "    /* Turns off some styling */\n",
              "    progress {\n",
              "        /* gets rid of default border in Firefox and Opera. */\n",
              "        border: none;\n",
              "        /* Needs to be in here for Safari polyfill so background images work as expected. */\n",
              "        background-size: auto;\n",
              "    }\n",
              "    progress:not([value]), progress:not([value])::-webkit-progress-bar {\n",
              "        background: repeating-linear-gradient(45deg, #7e7e7e, #7e7e7e 10px, #5c5c5c 10px, #5c5c5c 20px);\n",
              "    }\n",
              "    .progress-bar-interrupted, .progress-bar-interrupted::-webkit-progress-bar {\n",
              "        background: #F44336;\n",
              "    }\n",
              "</style>\n"
            ]
          },
          "metadata": {}
        },
        {
          "output_type": "display_data",
          "data": {
            "text/plain": [
              "<IPython.core.display.HTML object>"
            ],
            "text/html": []
          },
          "metadata": {}
        },
        {
          "output_type": "stream",
          "name": "stdout",
          "text": [
            "This is a: sage leaf.\n",
            "Probability it's a sage leaf: 0.9558\n",
            "/content/gdrive/MyDrive/Colab_Notebooks/unclassified_pics//img2.jpg\n"
          ]
        },
        {
          "output_type": "display_data",
          "data": {
            "text/plain": [
              "<IPython.core.display.HTML object>"
            ],
            "text/html": [
              "\n",
              "<style>\n",
              "    /* Turns off some styling */\n",
              "    progress {\n",
              "        /* gets rid of default border in Firefox and Opera. */\n",
              "        border: none;\n",
              "        /* Needs to be in here for Safari polyfill so background images work as expected. */\n",
              "        background-size: auto;\n",
              "    }\n",
              "    progress:not([value]), progress:not([value])::-webkit-progress-bar {\n",
              "        background: repeating-linear-gradient(45deg, #7e7e7e, #7e7e7e 10px, #5c5c5c 10px, #5c5c5c 20px);\n",
              "    }\n",
              "    .progress-bar-interrupted, .progress-bar-interrupted::-webkit-progress-bar {\n",
              "        background: #F44336;\n",
              "    }\n",
              "</style>\n"
            ]
          },
          "metadata": {}
        },
        {
          "output_type": "display_data",
          "data": {
            "text/plain": [
              "<IPython.core.display.HTML object>"
            ],
            "text/html": []
          },
          "metadata": {}
        },
        {
          "output_type": "stream",
          "name": "stdout",
          "text": [
            "This is a: nettle leaf.\n",
            "Probability it's a nettle leaf: 0.9936\n",
            "['unclassified_pics', '0.9894', 'sage leaf', '0.9558', 'nettle leaf', '0.9936']\n",
            "6\n"
          ]
        }
      ]
    }
  ]
}